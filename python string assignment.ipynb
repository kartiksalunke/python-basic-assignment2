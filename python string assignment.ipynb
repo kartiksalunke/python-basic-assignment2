{
 "cells": [
  {
   "cell_type": "raw",
   "id": "2e7a21fa-f68b-4d7a-b42e-39d298057daa",
   "metadata": {},
   "source": [
    "Q.1  How can we store a s1ngle quote (‘) as a str1ng 1n a var1able?"
   ]
  },
  {
   "cell_type": "raw",
   "id": "6c62cff0-6dc3-46a8-ab50-b2389288fd9f",
   "metadata": {},
   "source": [
    " ans. we can use either double quotes or escape the single quote using a backslash."
   ]
  },
  {
   "cell_type": "raw",
   "id": "78971b90-d0bb-4820-b745-eed3974faf97",
   "metadata": {},
   "source": [
    "Q.2 "
   ]
  },
  {
   "cell_type": "raw",
   "id": "8e957729-f06e-4fed-9f61-082c64f8c3f1",
   "metadata": {},
   "source": [
    "Ans.'x' is a string variable containing the character 'a'."
   ]
  },
  {
   "cell_type": "raw",
   "id": "cedb40b3-ff9d-4f4d-ae0e-20fef4bbadf8",
   "metadata": {},
   "source": [
    "Explanation : when you use single quotes around a sequence of characters, it's interpreted as a string literal. "
   ]
  },
  {
   "cell_type": "raw",
   "id": "56a48972-c0b3-4843-a818-d77617c32202",
   "metadata": {},
   "source": [
    "Q.3"
   ]
  },
  {
   "cell_type": "raw",
   "id": "25b98671-06f9-4c43-865f-0d1062f49c01",
   "metadata": {},
   "source": [
    "ANS. "
   ]
  },
  {
   "cell_type": "code",
   "execution_count": 9,
   "id": "f245dca2-591e-4a11-922e-e722814e0a64",
   "metadata": {},
   "outputs": [],
   "source": [
    "x = \"welcome to python foundation course\""
   ]
  },
  {
   "cell_type": "code",
   "execution_count": 11,
   "id": "2e011fd9-6673-472f-9285-36de4e5b3507",
   "metadata": {},
   "outputs": [
    {
     "data": {
      "text/plain": [
       "11"
      ]
     },
     "execution_count": 11,
     "metadata": {},
     "output_type": "execute_result"
    }
   ],
   "source": [
    "x.find('python')"
   ]
  },
  {
   "cell_type": "code",
   "execution_count": 13,
   "id": "28ae5203-7239-43dd-82a2-47bb65abf325",
   "metadata": {},
   "outputs": [
    {
     "data": {
      "text/plain": [
       "6"
      ]
     },
     "execution_count": 13,
     "metadata": {},
     "output_type": "execute_result"
    }
   ],
   "source": [
    "x.count('o')"
   ]
  },
  {
   "cell_type": "code",
   "execution_count": 16,
   "id": "a005d065-cd15-42af-a605-6f08c5927e34",
   "metadata": {},
   "outputs": [
    {
     "data": {
      "text/plain": [
       "35"
      ]
     },
     "execution_count": 16,
     "metadata": {},
     "output_type": "execute_result"
    }
   ],
   "source": [
    "len(x)"
   ]
  },
  {
   "cell_type": "code",
   "execution_count": 17,
   "id": "fb6c689d-40c7-4ee0-bfbb-0779c63ac9c4",
   "metadata": {},
   "outputs": [],
   "source": [
    "y = '2023'"
   ]
  },
  {
   "cell_type": "code",
   "execution_count": 18,
   "id": "66ec9bf4-a15c-4a89-8215-9865f7f3a775",
   "metadata": {},
   "outputs": [],
   "source": [
    "concatenated_string = x + y"
   ]
  },
  {
   "cell_type": "code",
   "execution_count": 19,
   "id": "5560621f-d061-4bc0-8bc0-582dcf1f91ed",
   "metadata": {},
   "outputs": [
    {
     "name": "stdout",
     "output_type": "stream",
     "text": [
      "welcome to python foundation course2023\n"
     ]
    }
   ],
   "source": [
    "print(concatenated_string)"
   ]
  },
  {
   "cell_type": "raw",
   "id": "1f4aa801-d093-476a-be42-addea7e7638e",
   "metadata": {},
   "source": [
    "Q.4"
   ]
  },
  {
   "cell_type": "raw",
   "id": "53e9c66c-e918-4fb2-8d0c-416a5aa9b4e0",
   "metadata": {},
   "source": [
    "Ans."
   ]
  },
  {
   "cell_type": "code",
   "execution_count": 20,
   "id": "614585c4-01b2-4a64-94ee-d9666b375bce",
   "metadata": {},
   "outputs": [],
   "source": [
    "word = \"PanaJi@12256\""
   ]
  },
  {
   "cell_type": "code",
   "execution_count": 22,
   "id": "e126e0df-1aa3-4c10-984f-85a6b7d11299",
   "metadata": {},
   "outputs": [
    {
     "name": "stdout",
     "output_type": "stream",
     "text": [
      "Total number of lowercase alphabets: 4\n"
     ]
    }
   ],
   "source": [
    " lowercase_count = sum(1 for char in word if char.islower())\n",
    "print(\"Total number of lowercase alphabets:\", lowercase_count)"
   ]
  },
  {
   "cell_type": "code",
   "execution_count": 23,
   "id": "3dfdfbca-609c-4709-8f5c-6c270fb78d2a",
   "metadata": {},
   "outputs": [
    {
     "name": "stdout",
     "output_type": "stream",
     "text": [
      "Total number of uppercase alphabets: 2\n"
     ]
    }
   ],
   "source": [
    "uppercase_count = sum(1 for char in word if char.isupper())\n",
    "print(\"Total number of uppercase alphabets:\", uppercase_count)"
   ]
  },
  {
   "cell_type": "code",
   "execution_count": 24,
   "id": "a9fde4bc-48c7-44ef-96b5-ba0c10e4b577",
   "metadata": {},
   "outputs": [
    {
     "name": "stdout",
     "output_type": "stream",
     "text": [
      "Total number of numerical characters: 5\n"
     ]
    }
   ],
   "source": [
    "numeric_count = sum(1 for char in word if char.isdigit())\n",
    "print(\"Total number of numerical characters:\", numeric_count)"
   ]
  },
  {
   "cell_type": "raw",
   "id": "189e3ab3-c626-46a5-9741-09c593c44310",
   "metadata": {},
   "source": [
    "Q.5"
   ]
  },
  {
   "cell_type": "code",
   "execution_count": 31,
   "id": "a5c7223c-2b11-4967-85cd-cfd345e97efc",
   "metadata": {},
   "outputs": [],
   "source": [
    "numerical_value = 12345"
   ]
  },
  {
   "cell_type": "code",
   "execution_count": 32,
   "id": "393c7f57-6559-4099-9109-18aa73c69619",
   "metadata": {},
   "outputs": [],
   "source": [
    "numerical_string = str(numerical_value)"
   ]
  },
  {
   "cell_type": "code",
   "execution_count": 33,
   "id": "8e5fca1e-8d95-4246-b1b5-c1dfe0221b0a",
   "metadata": {},
   "outputs": [
    {
     "name": "stdout",
     "output_type": "stream",
     "text": [
      "12345\n"
     ]
    }
   ],
   "source": [
    "print(numerical_value)"
   ]
  },
  {
   "cell_type": "code",
   "execution_count": 34,
   "id": "fc5ce0a7-860b-4923-9dae-19293e4e55a0",
   "metadata": {},
   "outputs": [
    {
     "name": "stdout",
     "output_type": "stream",
     "text": [
      "12345\n"
     ]
    }
   ],
   "source": [
    "print(numerical_string)"
   ]
  },
  {
   "cell_type": "code",
   "execution_count": 35,
   "id": "99d4db40-a5c6-4c91-97ff-e75a2628c6f6",
   "metadata": {},
   "outputs": [
    {
     "data": {
      "text/plain": [
       "int"
      ]
     },
     "execution_count": 35,
     "metadata": {},
     "output_type": "execute_result"
    }
   ],
   "source": [
    "type(numerical_value)"
   ]
  },
  {
   "cell_type": "code",
   "execution_count": 36,
   "id": "92ecc479-d4e8-4d8a-b636-86c48839476c",
   "metadata": {},
   "outputs": [
    {
     "data": {
      "text/plain": [
       "str"
      ]
     },
     "execution_count": 36,
     "metadata": {},
     "output_type": "execute_result"
    }
   ],
   "source": [
    "type(numerical_string)"
   ]
  },
  {
   "cell_type": "code",
   "execution_count": null,
   "id": "7590063b-061e-42fe-8174-eaa2c7f563eb",
   "metadata": {},
   "outputs": [],
   "source": []
  }
 ],
 "metadata": {
  "kernelspec": {
   "display_name": "Python 3 (ipykernel)",
   "language": "python",
   "name": "python3"
  },
  "language_info": {
   "codemirror_mode": {
    "name": "ipython",
    "version": 3
   },
   "file_extension": ".py",
   "mimetype": "text/x-python",
   "name": "python",
   "nbconvert_exporter": "python",
   "pygments_lexer": "ipython3",
   "version": "3.10.8"
  }
 },
 "nbformat": 4,
 "nbformat_minor": 5
}
